{
 "cells": [
  {
   "cell_type": "markdown",
   "metadata": {},
   "source": [
    "Import python libraries:"
   ]
  },
  {
   "cell_type": "code",
   "execution_count": 23,
   "metadata": {},
   "outputs": [],
   "source": [
    "import yfinance as yf\n",
    "import pandas as pd\n",
    "import numpy as np\n",
    "import datetime as datetime\n",
    "import matplotlib.pyplot as plt\n",
    "from scipy.interpolate import UnivariateSpline"
   ]
  },
  {
   "cell_type": "markdown",
   "metadata": {},
   "source": [
    "Define function to pull ticker price history:"
   ]
  },
  {
   "cell_type": "code",
   "execution_count": 57,
   "metadata": {},
   "outputs": [],
   "source": [
    "def get_ticker_history(ticker):\n",
    "\n",
    "    stock = yf.Ticker(ticker)\n",
    "    stock.info\n",
    "    history = stock.history(period=\"1mo\")\n",
    "\n",
    "    df = pd.DataFrame(history)\n",
    "    df.reset_index(inplace=True)\n",
    "    \n",
    "    #drop unwanted columns\n",
    "    df.drop(['High','Low','Dividends','Stock Splits'], axis=1, inplace=True)\n",
    "\n",
    "    #rename columns\n",
    "    df.rename(columns={'Open': 'open_price', 'Close': 'close_price', 'Volume': 'volume'}, inplace=True)\n",
    "\n",
    "    #clean up columns\n",
    "    df['open_price'] = np.round(df['open_price'],2)\n",
    "    df['close_price'] = np.round(df['close_price'],2)\n",
    "    df['date_numeric'] = df.index + 1\n",
    "    df['date'] = (df['Date']).dt.date\n",
    "\n",
    "    #calculate new columns\n",
    "    df['ticker'] = f'{ticker}'\n",
    "    df['price_delta'] = df['close_price'] - df['open_price']\n",
    "\n",
    "    #return desired columns\n",
    "    df = df[['ticker', 'open_price', 'close_price', 'price_delta', 'date', 'date_numeric']]\n",
    "\n",
    "    return(df)"
   ]
  },
  {
   "cell_type": "markdown",
   "metadata": {},
   "source": [
    "Print the first few rows of our dataframe:"
   ]
  },
  {
   "cell_type": "code",
   "execution_count": 58,
   "metadata": {},
   "outputs": [
    {
     "name": "stdout",
     "output_type": "stream",
     "text": [
      "  ticker  open_price  close_price  price_delta        date  date_numeric\n",
      "0   NVDA      719.44       694.49       -24.95  2024-02-20             1\n",
      "1   NVDA      680.03       674.69        -5.34  2024-02-21             2\n",
      "2   NVDA      750.21       785.34        35.13  2024-02-22             3\n",
      "3   NVDA      807.86       788.13       -19.73  2024-02-23             4\n",
      "4   NVDA      796.96       790.88        -6.08  2024-02-26             5\n"
     ]
    }
   ],
   "source": [
    "ex_table = get_ticker_history(\"NVDA\")\n",
    "print(ex_table.head(5))"
   ]
  },
  {
   "cell_type": "markdown",
   "metadata": {},
   "source": [
    "Plot the data in our dataframe:"
   ]
  },
  {
   "cell_type": "code",
   "execution_count": 63,
   "metadata": {},
   "outputs": [
    {
     "data": {
      "image/png": "[encoded data removed]",
      "text/plain": [
       "<Figure size 640x480 with 1 Axes>"
      ]
     },
     "metadata": {},
     "output_type": "display_data"
    }
   ],
   "source": [
    "ex_plot = get_ticker_history(\"NVDA\")\n",
    "plt.scatter(ex_plot['date_numeric'], ex_plot['close_price'], label='Original Data', color='blue')\n",
    "plt.show()"
   ]
  },
  {
   "cell_type": "markdown",
   "metadata": {},
   "source": [
    "Create a new function to calculate the 2nd derivative at each closing price:"
   ]
  },
  {
   "cell_type": "code",
   "execution_count": 72,
   "metadata": {},
   "outputs": [],
   "source": [
    "\n",
    "def calculate_d2ydx2(ticker):\n",
    "    \n",
    "    df = get_ticker_history(ticker)\n",
    "    spline = UnivariateSpline(df['date_numeric'], df['close_price'], s=0, k=3)\n",
    "    df['d2ydx2'] = spline.derivative(n=2)(df['date_numeric'])    \n",
    "    df = (df[['ticker','date','close_price','d2ydx2','date_numeric']])\n",
    "\n",
    "    return(df)"
   ]
  },
  {
   "cell_type": "markdown",
   "metadata": {},
   "source": [
    "Now we've got the 2nd derivative at each closing price:"
   ]
  },
  {
   "cell_type": "code",
   "execution_count": 101,
   "metadata": {},
   "outputs": [
    {
     "name": "stdout",
     "output_type": "stream",
     "text": [
      "   ticker        date  close_price     d2ydx2  date_numeric\n",
      "20   NVDA  2024-03-19       893.98   7.411780            21\n",
      "19   NVDA  2024-03-18       884.55   3.250000            20\n",
      "18   NVDA  2024-03-15       878.37  -0.911780            19\n",
      "17   NVDA  2024-03-14       879.44  43.897120            18\n",
      "16   NVDA  2024-03-13       908.88  -4.456701            17\n"
     ]
    }
   ],
   "source": [
    "ex_table = calculate_d2ydx2(\"NVDA\")\n",
    "ex_table = ex_table.sort_values(by='date_numeric', ascending=False)\n",
    "\n",
    "print(ex_table.head(5))"
   ]
  },
  {
   "cell_type": "markdown",
   "metadata": {},
   "source": [
    "Generate a buy or sell signal based on the current second derivative in the function:"
   ]
  },
  {
   "cell_type": "code",
   "execution_count": 96,
   "metadata": {},
   "outputs": [],
   "source": [
    "def generate_signal(ticker):\n",
    "\n",
    "    df = calculate_d2ydx2(ticker)\n",
    "    date_current = df['date_numeric'].max()\n",
    "\n",
    "    result = df.loc[df['date_numeric'] == date_current, 'd2ydx2'].item()\n",
    "\n",
    "    if result > 0:\n",
    "        print(\"Buy\")\n",
    "    else:\n",
    "        print(\"Sell\")"
   ]
  },
  {
   "cell_type": "code",
   "execution_count": 97,
   "metadata": {},
   "outputs": [
    {
     "name": "stdout",
     "output_type": "stream",
     "text": [
      "Buy\n"
     ]
    }
   ],
   "source": [
    "generate_signal('NVDA')"
   ]
  }
 ],
 "metadata": {
  "kernelspec": {
   "display_name": "Python 3",
   "language": "python",
   "name": "python3"
  },
  "language_info": {
   "codemirror_mode": {
    "name": "ipython",
    "version": 3
   },
   "file_extension": ".py",
   "mimetype": "text/x-python",
   "name": "python",
   "nbconvert_exporter": "python",
   "pygments_lexer": "ipython3",
   "version": "3.11.7"
  }
 },
 "nbformat": 4,
 "nbformat_minor": 2
}
