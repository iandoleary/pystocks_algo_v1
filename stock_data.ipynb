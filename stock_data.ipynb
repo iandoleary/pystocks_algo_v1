{
 "cells": [
  {
   "cell_type": "markdown",
   "metadata": {},
   "source": [
    "Import python libraries:"
   ]
  },
  {
   "cell_type": "code",
   "execution_count": 19,
   "metadata": {},
   "outputs": [],
   "source": [
    "import yfinance as yf\n",
    "import pandas as pd\n",
    "import numpy as np\n",
    "import datetime as dt\n",
    "import matplotlib.pyplot as plt"
   ]
  },
  {
   "cell_type": "markdown",
   "metadata": {},
   "source": [
    "Define function to pull ticker price history:"
   ]
  },
  {
   "cell_type": "code",
   "execution_count": 20,
   "metadata": {},
   "outputs": [],
   "source": [
    "def get_ticker_history(ticker):\n",
    "\n",
    "    stock = yf.Ticker(ticker)\n",
    "    stock.info\n",
    "    history = stock.history(period=\"1mo\")\n",
    "\n",
    "    df = pd.DataFrame(history)\n",
    "    df.reset_index(inplace=True)\n",
    "    \n",
    "    #drop unwanted columns\n",
    "    df.drop(['High','Low','Dividends','Stock Splits'], axis=1, inplace=True)\n",
    "\n",
    "    #rename columns\n",
    "    df.rename(columns={'Open': 'open_price', 'Close': 'close_price', 'Volume': 'volume'}, inplace=True)\n",
    "\n",
    "    #clean up columns\n",
    "    df['open_price'] = np.round(df['open_price'],2)\n",
    "    df['close_price'] = np.round(df['close_price'],2)\n",
    "    df['date'] = (df['Date']).dt.date\n",
    "\n",
    "    #calculate new \"price delta column\"\n",
    "    df['ticker'] = f'{ticker}'\n",
    "    df['price_delta'] = df['close_price'] - df['open_price']\n",
    "\n",
    "    #return desired columns\n",
    "    df = df[['ticker', 'open_price', 'close_price', 'price_delta', 'volume', 'date']]\n",
    "\n",
    "    return(df)"
   ]
  },
  {
   "cell_type": "markdown",
   "metadata": {},
   "source": [
    "Print the first few rows of our dataframe:"
   ]
  },
  {
   "cell_type": "code",
   "execution_count": 25,
   "metadata": {},
   "outputs": [
    {
     "name": "stdout",
     "output_type": "stream",
     "text": [
      "  ticker  open_price  close_price  price_delta    volume        date\n",
      "0   NVDA      719.44       694.49       -24.95  70483300  2024-02-20\n",
      "1   NVDA      680.03       674.69        -5.34  69029800  2024-02-21\n",
      "2   NVDA      750.21       785.34        35.13  86510000  2024-02-22\n",
      "3   NVDA      807.86       788.13       -19.73  82938800  2024-02-23\n",
      "4   NVDA      796.96       790.88        -6.08  50397300  2024-02-26\n"
     ]
    }
   ],
   "source": [
    "ex_table = get_ticker_history(\"NVDA\")\n",
    "print(ex_table.head(5))"
   ]
  },
  {
   "cell_type": "markdown",
   "metadata": {},
   "source": [
    "Plot the data in our dataframe:"
   ]
  },
  {
   "cell_type": "code",
   "execution_count": 26,
   "metadata": {},
   "outputs": [
    {
     "data": {
      "image/png": "[encoded data removed]",
      "text/plain": [
       "<Figure size 640x480 with 1 Axes>"
      ]
     },
     "metadata": {},
     "output_type": "display_data"
    }
   ],
   "source": [
    "ex_plot = get_ticker_history(\"NVDA\")\n",
    "plt.scatter(ex_plot['date'], ex_plot['close_price'], label='Original Data', color='blue')\n",
    "plt.show()"
   ]
  },
  {
   "cell_type": "markdown",
   "metadata": {},
   "source": [
    "Create a new function to fit a curve based on the closing prices of our stock:"
   ]
  },
  {
   "cell_type": "code",
   "execution_count": 27,
   "metadata": {},
   "outputs": [],
   "source": [
    "\n",
    "def approximate_curve(ticker):\n",
    "    ticker_history = get_ticker_history(ticker)\n",
    "    plt.scatter(ticker_history['date'], ticker_history['close_price'], label='Original Data', color='blue')\n",
    "\n",
    "    plt.show()\n",
    "\n",
    "    #ticker_history"
   ]
  },
  {
   "cell_type": "code",
   "execution_count": 28,
   "metadata": {},
   "outputs": [],
   "source": [
    "#approximate_curve(\"NVDA\")"
   ]
  }
 ],
 "metadata": {
  "kernelspec": {
   "display_name": "Python 3",
   "language": "python",
   "name": "python3"
  },
  "language_info": {
   "codemirror_mode": {
    "name": "ipython",
    "version": 3
   },
   "file_extension": ".py",
   "mimetype": "text/x-python",
   "name": "python",
   "nbconvert_exporter": "python",
   "pygments_lexer": "ipython3",
   "version": "3.11.7"
  }
 },
 "nbformat": 4,
 "nbformat_minor": 2
}
