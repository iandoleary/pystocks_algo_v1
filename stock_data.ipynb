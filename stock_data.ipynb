{
 "cells": [
  {
   "cell_type": "markdown",
   "metadata": {},
   "source": [
    "Import libraries"
   ]
  },
  {
   "cell_type": "code",
   "execution_count": 49,
   "metadata": {},
   "outputs": [],
   "source": [
    "import yfinance as yf\n",
    "import pandas as pd\n",
    "import numpy as np\n",
    "import datetime as dt"
   ]
  },
  {
   "cell_type": "markdown",
   "metadata": {},
   "source": [
    "Define ticker functions"
   ]
  },
  {
   "cell_type": "code",
   "execution_count": 57,
   "metadata": {},
   "outputs": [],
   "source": [
    "def get_ticker_history(ticker):\n",
    "\n",
    "    stock = yf.Ticker(ticker)\n",
    "    stock.info\n",
    "    history = stock.history(period=\"1mo\")\n",
    "\n",
    "    df = pd.DataFrame(history)\n",
    "    df.reset_index(inplace=True)\n",
    "    \n",
    "    #drop unwanted columns\n",
    "    df.drop(['High','Low','Dividends','Stock Splits'], axis=1, inplace=True)\n",
    "\n",
    "    #rename columns\n",
    "    df.rename(columns={'Open': 'open_price', 'Close': 'close_price', 'Volume': 'volume'}, inplace=True)\n",
    "\n",
    "    #clean up columns\n",
    "    df['open_price'] = np.round(df['open_price'],2)\n",
    "    df['close_price'] = np.round(df['close_price'],2)\n",
    "    df['date'] = (df['Date']).dt.date\n",
    "\n",
    "    #calculate new \"price delta column\"\n",
    "    df['ticker'] = f'{ticker}'\n",
    "    df['price_delta'] = df['close_price'] - df['open_price']\n",
    "\n",
    "    #return desired columns\n",
    "    df = df[['ticker', 'open_price', 'close_price', 'price_delta', 'volume', 'date']]\n",
    "\n",
    "    print(df)\n",
    "    "
   ]
  },
  {
   "cell_type": "code",
   "execution_count": 58,
   "metadata": {},
   "outputs": [
    {
     "name": "stdout",
     "output_type": "stream",
     "text": [
      "   ticker  open_price  close_price  price_delta     volume        date\n",
      "0    NVDA      719.44       694.49       -24.95   70483300  2024-02-20\n",
      "1    NVDA      680.03       674.69        -5.34   69029800  2024-02-21\n",
      "2    NVDA      750.21       785.34        35.13   86510000  2024-02-22\n",
      "3    NVDA      807.86       788.13       -19.73   82938800  2024-02-23\n",
      "4    NVDA      796.96       790.88        -6.08   50397300  2024-02-26\n",
      "5    NVDA      793.77       786.97        -6.80   39170500  2024-02-27\n",
      "6    NVDA      776.16       776.59         0.43   39311000  2024-02-28\n",
      "7    NVDA      790.90       791.08         0.18   50728900  2024-02-29\n",
      "8    NVDA      799.96       822.75        22.79   47677700  2024-03-01\n",
      "9    NVDA      841.26       852.33        11.07   61561600  2024-03-04\n",
      "10   NVDA      852.70       859.64         6.94   52063900  2024-03-05\n",
      "11   NVDA      880.22       887.00         6.78   58252000  2024-03-06\n",
      "12   NVDA      901.58       926.69        25.11   60811900  2024-03-07\n",
      "13   NVDA      951.38       875.28       -76.10  113299600  2024-03-08\n",
      "14   NVDA      864.29       857.74        -6.55   67836400  2024-03-11\n",
      "15   NVDA      880.49       919.13        38.64   66807500  2024-03-12\n",
      "16   NVDA      910.55       908.88        -1.67   63571300  2024-03-13\n",
      "17   NVDA      895.77       879.44       -16.33   60231800  2024-03-14\n",
      "18   NVDA      869.30       878.37         9.07   64019300  2024-03-15\n",
      "19   NVDA      903.88       884.55       -19.33   66173800  2024-03-18\n",
      "20   NVDA      866.00       893.86        27.86   48365335  2024-03-19\n"
     ]
    }
   ],
   "source": [
    "get_ticker_history(\"NVDA\")"
   ]
  }
 ],
 "metadata": {
  "kernelspec": {
   "display_name": "Python 3",
   "language": "python",
   "name": "python3"
  },
  "language_info": {
   "codemirror_mode": {
    "name": "ipython",
    "version": 3
   },
   "file_extension": ".py",
   "mimetype": "text/x-python",
   "name": "python",
   "nbconvert_exporter": "python",
   "pygments_lexer": "ipython3",
   "version": "3.11.7"
  }
 },
 "nbformat": 4,
 "nbformat_minor": 2
}
